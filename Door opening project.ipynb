{
 "cells": [
  {
   "cell_type": "code",
   "execution_count": 2,
   "id": "70aa540e",
   "metadata": {},
   "outputs": [
    {
     "name": "stdout",
     "output_type": "stream",
     "text": [
      "Door will be opened\n"
     ]
    }
   ],
   "source": [
    "\n",
    "import time\n",
    "\n",
    "\n",
    "def detect_motion():\n",
    "   \n",
    "    return True  \n",
    "\n",
    "def control_door(is_open):\n",
    "    if is_open:\n",
    "        print(\"Door will be opened\")\n",
    "    else:\n",
    "        print(\"Door will be closed\")\n",
    "\n",
    "\n",
    "while True:\n",
    "   \n",
    "    motion_detected = detect_motion()\n",
    "\n",
    "    \n",
    "    if motion_detected:\n",
    "        control_door(True)\n",
    "        break\n",
    "    else:\n",
    "        control_door(False)  \n",
    "\n",
    "    \n",
    "    time.sleep(1) \n"
   ]
  },
  {
   "cell_type": "code",
   "execution_count": null,
   "id": "8ce94d94",
   "metadata": {},
   "outputs": [],
   "source": [
    " "
   ]
  }
 ],
 "metadata": {
  "kernelspec": {
   "display_name": "Python 3 (ipykernel)",
   "language": "python",
   "name": "python3"
  },
  "language_info": {
   "codemirror_mode": {
    "name": "ipython",
    "version": 3
   },
   "file_extension": ".py",
   "mimetype": "text/x-python",
   "name": "python",
   "nbconvert_exporter": "python",
   "pygments_lexer": "ipython3",
   "version": "3.9.7"
  }
 },
 "nbformat": 4,
 "nbformat_minor": 5
}
